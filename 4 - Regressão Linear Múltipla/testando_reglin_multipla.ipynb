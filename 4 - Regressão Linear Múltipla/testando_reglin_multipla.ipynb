{
 "cells": [
  {
   "cell_type": "markdown",
   "metadata": {},
   "source": [
    "# Regressão Linear Múltipla\n",
    "\n",
    "A Regressão Linear Múltipla é uma extensão da Regressão Linear Simples, usada quando queremos modelar a relação entre uma variável dependente (o que queremos prever) e duas ou mais variáveis independentes (os fatores que usamos para fazer a previsão).\n",
    "\n",
    "Na implementação da regressão linear simples, criamos um modelo que y = α + βxₙ + εₙ. Agora, imagine que cada entrada xₙ não é um único número, mas um vetor de k números.\n",
    "O modelo de regressão linear múltipla pressupões que:   \n",
    "<br>\n",
    "<br>\n",
    "$$\n",
    "y = α + β₁x₁ + β₂x₂ + ... + βₙxₙ + ε\n",
    "\n",
    "$$\n",
    "<br>\n",
    "\n",
    "Cada termo tem um significado importante:\n",
    "\n",
    "- y --> Variável dependente (o que queremos prever).\n",
    "- x₁, x₂, ..., xₙ --> Variáveis independentes (o que usamos para fazer a previsão).\n",
    "- β₁, β₂, ..., βₙ --> Coeficientes que medem o impacto de cada variável independente em y.\n",
    "- α --> Intercepto, o valor de y quando todas as variáveis independentes são zero.\n",
    "- ε --> Erro, que representa a variação não explicada pelo modelo.\n",
    "\n",
    "Na regressão linear múltipla, o vetor de paramêtros geralmente é chamado de β. Também temos que incluir o termo costante, adicionando uma coluna de 1s aos dados:\n",
    "\n",
    "beta = [alpha, beta1, ..., beta_k]\n",
    "\n",
    "x_i = [1, x_i1, ..., x_ik]"
   ]
  },
  {
   "cell_type": "markdown",
   "metadata": {},
   "source": [
    "Nosso modelo é:\n",
    "```python\n",
    "def predict(x: Vector, beta: Vector) -> float:\n",
    "    \"\"\"Pressupõe que o primeiro elemento de x é 1\"\"\"\n",
    "    return sum(x_i * b for x_i, b in zip(x, beta))\n",
    "```"
   ]
  },
  {
   "cell_type": "markdown",
   "metadata": {},
   "source": [
    "## Hipóteses Adicionais do Modelo de Mínimos Quadrados\n",
    "Para que o modelo funcione corretamente, algumas hipóteses devem ser atendidas:\n",
    "\n",
    "1. Independência Linear<br>\n",
    "As variáveis independentes (colunas de X) não devem ser combinações lineares entre si.\n",
    "- Se uma variável puder ser escrita como uma soma ponderada de outras, não será possível estimar os coeficientes (β).\n",
    "- Exemplo: Se tivermos duas variáveis idênticas, como num_amigos e num_conhecidos, o modelo não conseguirá diferenciar suas contribuições.\n",
    "\n",
    "2. Não Correlação com o Erro<br>\n",
    "As variáveis independentes não devem estar correlacionadas com o erro (ϵ).\n",
    "- Se essa condição for violada, as estimativas dos coeficientes (β) serão tendenciosas.\n",
    "- Exemplo: Se pessoas que trabalham mais horas passam menos tempo em um site, mas o modelo não considera as horas de trabalho, o coeficiente de num_amigos será subestimado, pois ignora essa relação indireta.\n",
    "\n",
    "Em resumo, se as variáveis não forem independentes ou estiverem correlacionadas com o erro, as previsões do modelo serão imprecisas e os coeficientes estimados serão enviesados."
   ]
  },
  {
   "cell_type": "markdown",
   "metadata": {},
   "source": [
    "## Ajustando o Modelo\n",
    "\n",
    "Como fizemos no modelo linear simples, escolheremos o beta para minimizar a soma dos erros quadráticos. Como não é tão simples definir uma solução exata manualmente, temos que usar o gradiente descendente. Mais uma vez, precisamos minimizar a soma dos erros quadrátricos. A função do erro é quase idêntica à utilizada na implementação da regressão linear simples, mas em vez de esperar os paramêtros (alpha e beta), ela recebará um vetor de tamanho arbitrário:\n",
    "\n",
    "```python\n",
    "def error(x: Vector, y: float beta: Vector) -> float:\n",
    "    return predict(x, beta) - y\n",
    "\n",
    "def squared_error(x: Vector, y: float, beta: Vector) -> float:\n",
    "    return error(x, y, beta) ** 2\n",
    "\n",
    "def sqerror_gradient(x: Vector, y: float, beta: Vector) -> Vector:\n",
    "    err = error(x, y, beta)\n",
    "    return [2 * err * x_i for x_i in x]\n",
    "```\n"
   ]
  },
  {
   "cell_type": "markdown",
   "metadata": {},
   "source": [
    "Antes de aplicar usar o gradiente, precisamos escrever uma função least_squares_fit que opere em qualquer conjunto de dados:\n",
    "\n",
    "```python\n",
    "def least_squares_fit(xs: List[Vector],\n",
    "                      ys: List[float],\n",
    "                      learning_rate: float = 0.001,\n",
    "                      num_steps: int = 1000,\n",
    "                      batch_size: int = 1) -> Vector:\n",
    "    \"\"\"\n",
    "    Encontre o beta que minimiza a soma dos erros qudráticos\n",
    "    pressupondo que o modelo y = dot(x, beta)\n",
    "    \"\"\"\n",
    "    # Comece com uma estimativa aleatória\n",
    "    guess = [random.random() for _ in xs[0]]\n",
    "\n",
    "    for _ in tqdm.trange(num_steps, desc=\"least squares fit\"):\n",
    "        for start in range(0, len(xs), batch_size):\n",
    "            batch_xs = xs[start:start+batch_size]\n",
    "            batch_ys = ys[start:start+batch_size]\n",
    "\n",
    "            gradient = vector_mean([sqerror_gradient(x, y, guess)\n",
    "                                    for x, y in zip(batch_xs, batch_ys)])\n",
    "            guess = gradient_step(guess, gradient, -learning_rate)\n",
    "\n",
    "    return guess\n",
    "```"
   ]
  },
  {
   "cell_type": "markdown",
   "metadata": {},
   "source": [
    "## Implementando\n",
    "\n",
    "#### Análise de Tempo de Uso de um Aplicativo de Streaming\n",
    "\n",
    "Queremos entender quanto tempo (em minutos) os usuários passam assistindo a conteúdos em um aplicativo de streaming. As variáveis que influenciam o tempo assistido são:\n",
    "\n",
    "- Constante: Um valor fixo de 1 para ajustar o modelo.\n",
    "- Número de dispositivos: Quantos dispositivos o usuário usa para acessar o aplicativo (ex.: 1 a 5).\n",
    "- Horas de trabalho por dia: Quantas horas o usuário trabalha diariamente (ex.: 4 a 12 horas).\n",
    "- Assinante premium: Se o usuário é assinante premium ou não (0 para não, 1 para sim).\n",
    "\n",
    "#### Relação esperada entre as variáveis e o tempo no aplicativo:\n",
    "\n",
    "- Número de dispositivos: Quanto mais dispositivos, maior a chance de assistir em diferentes momentos (+).\n",
    "- Horas de trabalho: Quanto mais trabalha, menos tempo tem para assistir (-).\n",
    "- Assinante premium: Assinantes premium tendem a consumir mais conteúdo (+)."
   ]
  },
  {
   "cell_type": "code",
   "execution_count": 1,
   "metadata": {},
   "outputs": [
    {
     "name": "stdout",
     "output_type": "stream",
     "text": [
      "Entrada: [1.0, 1, 4, 1], Minutos assistidos: 47.45\n",
      "Entrada: [1.0, 2, 5, 0], Minutos assistidos: 39.9\n",
      "Entrada: [1.0, 1, 4, 0], Minutos assistidos: 27.19\n",
      "Entrada: [1.0, 5, 4, 0], Minutos assistidos: 80.16\n",
      "Entrada: [1.0, 5, 10, 0], Minutos assistidos: 59.49\n"
     ]
    }
   ],
   "source": [
    "import random\n",
    "\n",
    "def gerar_dados_streaming(n=200):\n",
    "    random.seed(42)\n",
    "    X = []\n",
    "    y = []\n",
    "    for _ in range(n):\n",
    "        constante = 1.0 # Constante para o modelo \n",
    "        num_dispositivos = random.randint(1, 5) # Número de dispositivos (entre 1 e 5)\n",
    "        horas_trabalho = random.randint(4, 12) # Horas de trabalho por dia (entre 4 e 12)\n",
    "        assinante_premium = random.choice([0, 1]) # Assinante premium (0 = não, 1 = sim)\n",
    "\n",
    "        # Coeficientes do modelo\n",
    "        beta_constante = 30  # Base fixa de minutos\n",
    "        beta_dispositivos = 12  # Mais dispositivos, mais tempo\n",
    "        beta_horas_trabalho = -3  # Mais trabalho, menos tempo\n",
    "        beta_premium = 20  # Assinantes assistem mais\n",
    "\n",
    "        # Gerando o tempo de uso (com ruído aleatório)\n",
    "        minutos_assistidos = (\n",
    "            beta_constante\n",
    "            + beta_dispositivos * num_dispositivos\n",
    "            + beta_horas_trabalho * horas_trabalho\n",
    "            + beta_premium * assinante_premium\n",
    "            + random.uniform(-5, 5)  # Pequeno ruído\n",
    "        )\n",
    "\n",
    "        X.append([constante, num_dispositivos, horas_trabalho, assinante_premium])\n",
    "        y.append(round(minutos_assistidos, 2))\n",
    "\n",
    "    return X, y\n",
    "\n",
    "X, y = gerar_dados_streaming()\n",
    "\n",
    "for i in range(5):\n",
    "    print(f\"Entrada: {X[i]}, Minutos assistidos: {y[i]}\")"
   ]
  },
  {
   "cell_type": "code",
   "execution_count": 2,
   "metadata": {},
   "outputs": [
    {
     "name": "stderr",
     "output_type": "stream",
     "text": [
      "least squares fit: 100%|██████████| 5000/5000 [00:01<00:00, 4279.00it/s]"
     ]
    },
    {
     "name": "stdout",
     "output_type": "stream",
     "text": [
      "Coeficientes encontrados:\n",
      "Intercepto:  13.691553345061315\n",
      "Numero de dispositivos:  13.668478695946117\n",
      "Horas de trabalho:  -1.6819805610756267\n",
      "Assinante premium:  19.561160620687385\n"
     ]
    },
    {
     "name": "stderr",
     "output_type": "stream",
     "text": [
      "\n"
     ]
    }
   ],
   "source": [
    "from reglin_multipla import least_squares_fit\n",
    "\n",
    "beta = least_squares_fit(X, y, learning_rate=0.0001, num_steps=5000, batch_size=30)\n",
    "print(\"Coeficientes encontrados:\")\n",
    "print(\"Intercepto: \", beta[0])\n",
    "print(\"Numero de dispositivos: \", beta[1])\n",
    "print(\"Horas de trabalho: \", beta[2])\n",
    "print(\"Assinante premium: \", beta[3])"
   ]
  },
  {
   "cell_type": "markdown",
   "metadata": {},
   "source": [
    "Os coeficientes estimados (beta) têm a seguinte interpretação:\n",
    "- β₀ (Intercepto = 13.69): Representa o tempo médio (em minutos) que os usuários passam no aplicativo quando todas as variáveis independentes são zero. Esse é o valor base.\n",
    "\n",
    "- β₁ (Número de dispositivos = 13.66): Para cada dispositivo adicional que o usuário possui, o tempo assistindo aumenta em aproximadamente 14 minutos.\n",
    "- β₂ (Horas de trabalho por dia = -1.68): A cada hora a mais de trabalho, o tempo assistindo no aplicativo diminui cerca de 1.68 minutos.\n",
    "- β₃ (Assinante premium = 19.56): Usuários com assinatura premium passam, em média, 19.56 minutos a mais no aplicativo em comparação com usuários sem assinatura."
   ]
  },
  {
   "cell_type": "markdown",
   "metadata": {},
   "source": [
    "Com esses valores, podemos realizar previsões:"
   ]
  },
  {
   "cell_type": "code",
   "execution_count": null,
   "metadata": {},
   "outputs": [
    {
     "data": {
      "text/plain": [
       "64.16626668713329"
      ]
     },
     "execution_count": 3,
     "metadata": {},
     "output_type": "execute_result"
    }
   ],
   "source": [
    "from reglin_multipla import predict\n",
    "\n",
    "novos_dados = [1.0, 3, 6, 1]\n",
    "predict(novos_dados, beta)"
   ]
  },
  {
   "cell_type": "markdown",
   "metadata": {},
   "source": [
    "Como na regressão linear simples, aqui também usaremos o R-quadrado:"
   ]
  },
  {
   "cell_type": "code",
   "execution_count": 4,
   "metadata": {},
   "outputs": [
    {
     "data": {
      "text/plain": [
       "0.935108789613937"
      ]
     },
     "execution_count": 4,
     "metadata": {},
     "output_type": "execute_result"
    }
   ],
   "source": [
    "from reglin_multipla import multiple_r_squared\n",
    "\n",
    "multiple_r_squared(X, y, beta)"
   ]
  },
  {
   "cell_type": "markdown",
   "metadata": {},
   "source": [
    "## Scikit-Learn"
   ]
  },
  {
   "cell_type": "code",
   "execution_count": 5,
   "metadata": {},
   "outputs": [
    {
     "data": {
      "text/plain": [
       "0.9808567694310053"
      ]
     },
     "execution_count": 5,
     "metadata": {},
     "output_type": "execute_result"
    }
   ],
   "source": [
    "from sklearn.linear_model import LinearRegression\n",
    "from sklearn.metrics import r2_score\n",
    "from sklearn.model_selection import train_test_split\n",
    "\n",
    "reg_lin_sklearn = LinearRegression()\n",
    "\n",
    "X_train, X_test, y_train, y_test = train_test_split(X, y, test_size=0.2)\n",
    "\n",
    "reg_lin_sklearn.fit(X_train, y_train)\n",
    "\n",
    "pred = reg_lin_sklearn.predict(X_test)\n",
    "r2_score(y_test, pred)"
   ]
  },
  {
   "cell_type": "code",
   "execution_count": 8,
   "metadata": {},
   "outputs": [
    {
     "data": {
      "text/plain": [
       "array([68.09873175])"
      ]
     },
     "execution_count": 8,
     "metadata": {},
     "output_type": "execute_result"
    }
   ],
   "source": [
    "reg_lin_sklearn.predict([novos_dados])"
   ]
  },
  {
   "cell_type": "markdown",
   "metadata": {},
   "source": [
    "Esse é um valor bastante próximo da implementação feita do zero! (64.16)"
   ]
  },
  {
   "cell_type": "code",
   "execution_count": 6,
   "metadata": {},
   "outputs": [
    {
     "data": {
      "text/plain": [
       "(np.float64(29.592446296751408),\n",
       " array([ 0.        , 12.07239782, -3.00280504, 20.30592222]))"
      ]
     },
     "execution_count": 6,
     "metadata": {},
     "output_type": "execute_result"
    }
   ],
   "source": [
    "reg_lin_sklearn.intercept_, reg_lin_sklearn.coef_"
   ]
  },
  {
   "cell_type": "markdown",
   "metadata": {},
   "source": [
    "- β₀ (Intercepto = 29.59): Este é o valor de base do tempo de uso do aplicativo quando todas as outras variáveis são zero. Isso sugere que, com o modelo do scikit-learn, o tempo médio inicial de uso (quando todas as outras variáveis são zero) é de aproximadamente 29.59 minutos.\n",
    "\n",
    "- β₁ (Número de dispositivos = 12.07): Esse coeficiente indica que, para cada dispositivo adicional que o usuário possui, o tempo de uso do aplicativo aumenta em aproximadamente 12.07 minutos. Ou seja, usuários que possuem mais dispositivos tendem a usar o aplicativo por mais tempo, o que pode indicar que eles estão acessando o aplicativo de diferentes plataformas.\n",
    "- β₂ (Horas de trabalho por dia = -3.00): O coeficiente negativo de -3.00 sugere que, para cada hora adicional de trabalho, o tempo de uso do aplicativo diminui em 3 minutos, o que é um pouco mais acentuado em comparação com o modelo do zero (-1.71).\n",
    "- β₃ (Assinante premium = 20.30): A diferença de tempo entre usuários com e sem assinatura premium é de 20.30 minutos, o que é muito próximo do valor do modelo do zero (19.56 minutos)."
   ]
  },
  {
   "cell_type": "markdown",
   "metadata": {},
   "source": [
    "Os coeficientes dos modelos são bastante próximos, mas há uma grande diferença no intercepto. O modelo do scikit-learn estima um valor de 29.59 minutos para o tempo base, enquanto o modelo do zero estima 13.69 minutos. Em relação às variáveis, a diferença no número de dispositivos (12.07 vs 13.66) é pequena, indicando um impacto semelhante. O modelo do scikit-learn tem uma maior sensibilidade às horas de trabalho (-3.00 vs -1.68), e ambos concordam que a assinatura premium aumenta o tempo de uso, com uma diferença de 1 minuto entre eles."
   ]
  }
 ],
 "metadata": {
  "kernelspec": {
   "display_name": "Python 3",
   "language": "python",
   "name": "python3"
  },
  "language_info": {
   "codemirror_mode": {
    "name": "ipython",
    "version": 3
   },
   "file_extension": ".py",
   "mimetype": "text/x-python",
   "name": "python",
   "nbconvert_exporter": "python",
   "pygments_lexer": "ipython3",
   "version": "3.13.1"
  }
 },
 "nbformat": 4,
 "nbformat_minor": 2
}
