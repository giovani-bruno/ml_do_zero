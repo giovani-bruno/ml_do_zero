{
 "cells": [
  {
   "cell_type": "markdown",
   "metadata": {},
   "source": [
    "# Regressão Logística\n",
    "\n",
    "A regressão logística é uma técnica essencial em problemas de classificação binária, ou seja, quando o objetivo é prever uma entre duas possíveis classes — por exemplo, identificar se um usuário tem ou não uma conta premium em um serviço digital."
   ]
  },
  {
   "cell_type": "markdown",
   "metadata": {},
   "source": [
    "### O Problema\n",
    "O desafio é prever se um usuário possui uma conta paga com base em algumas variáveis, como:\n",
    "\n",
    "- Quantos anos de experiência ele tem com o serviço\n",
    "- Qual é o seu salário.\n",
    "\n",
    "Esses dados são usados como entrada para um modelo que tentará aprender padrões que diferenciem usuários pagantes dos gratuitos."
   ]
  },
  {
   "cell_type": "markdown",
   "metadata": {},
   "source": [
    "### Por que não usar Regressão Linear?\n",
    "Uma primeira ideia seria aplicar uma regressão linear. No entanto, esse tipo de modelo prevê qualquer valor numérico, inclusive negativos ou maiores que 1, o que não faz sentido quando estamos lidando com probabilidades. Além disso, a regressão linear não foi feita para resolver problemas de classificação."
   ]
  },
  {
   "cell_type": "markdown",
   "metadata": {},
   "source": [
    "### A Solução: A Função Logística\n",
    "Para resolver esse problema, usamos a regressão logística, que transforma a saída da combinação linear das variáveis em uma probabilidade entre 0 e 1. Isso é feito com a função logística (também chamada de função sigmoide), que tem a forma de um “S” e aproxima a saída de valores extremos (0 ou 1) de forma suave.\n",
    "\n",
    "Assim, em vez de prever diretamente se alguém tem uma conta paga, o modelo estima a probabilidade disso acontecer. Se essa probabilidade for maior ou igual a 0.5, classificamos como \"sim\"; caso contrário, como \"não\".\n",
    "\n",
    "```python\n",
    "def logistic(x: float) -> float:\n",
    "    return 1.0 / (1 + math.exp(-x))\n",
    "```\n",
    "Essa função transforma qualquer valor real em um número entre 0 e 1, interpretável como probabilidade.\n",
    "\n",
    "<img src=\"funcao_logistica.png\" width=\"800\">"
   ]
  },
  {
   "cell_type": "markdown",
   "metadata": {},
   "source": [
    "### Como o Modelo Aprende\n",
    "A regressão logística também precisa de um mecanismo de aprendizado. Nesse caso, o objetivo é encontrar os melhores coeficientes (pesos) que resultem em boas previsões. Para isso, usamos um método chamado gradiente descendente, que ajusta os pesos aos poucos, tentando minimizar o erro do modelo.\n",
    "\n",
    "O erro aqui é definido como a log-verossimilhança negativa, uma função que penaliza previsões ruins e recompensa previsões certeiras. Esse tipo de função é adequada para classificação e permite que o modelo aprenda a separar corretamente os dados em duas classes."
   ]
  },
  {
   "cell_type": "markdown",
   "metadata": {},
   "source": [
    "### Treinamento e Avaliação\n",
    "Depois de definir a função de custo e o método de ajuste dos pesos, o modelo é treinado com os dados. A cada iteração, ele melhora um pouco sua capacidade de prever corretamente quem tem conta premium.\n",
    "\n",
    "Ao final do treinamento, o modelo pode ser avaliado usando métricas como:\n",
    "\n",
    "- Precisão: entre os que foram classificados como “sim”, quantos realmente têm conta premium?\n",
    "- Recall: entre todos os que têm conta premium, quantos foram corretamente identificados?\n",
    "\n",
    "Depois de treinado, o modelo fornece um conjunto de coeficientes para as variáveis. Esses números indicam como cada variável afeta a probabilidade de um usuário ter uma conta paga:\n",
    "\n",
    "- Um valor positivo para “experiência”, por exemplo, indica que mais experiência aumenta a chance de assinatura.\n",
    "- Um valor negativo para “salário” sugere que, nesse caso específico, usuários com salário mais alto têm menor chance de assinar (o que pode fazer sentido dependendo do contexto do serviço).\n",
    "\n",
    "Esses coeficientes podem ser interpretados com cuidado para gerar insights valiosos sobre o comportamento dos usuários."
   ]
  },
  {
   "cell_type": "markdown",
   "metadata": {},
   "source": [
    "## Implementando\n",
    "\n",
    "Imagine que você trabalha em uma empresa que oferece um aplicativo com planos gratuitos e pagos. Seu objetivo é prever se um usuário possui uma conta paga com base em algumas características pessoais.\n",
    "\n",
    "Você tem acesso às seguintes variáveis para cada usuário:\n",
    "\n",
    "- experiencia: Quantos anos de experiência profissional o usuário tem.\n",
    "- renda anual: Renda anual do usuário (em reais).\n",
    "\n",
    "A variável alvo é:\n",
    "\n",
    "- assinante: 1 se o usuário tem uma conta paga (premium), 0 se utiliza o plano gratuito."
   ]
  },
  {
   "cell_type": "code",
   "execution_count": null,
   "metadata": {},
   "outputs": [],
   "source": [
    "import random\n",
    "\n",
    "def gerar_dados(n=200):\n",
    "    dados = []\n",
    "    for _ in range(n):\n",
    "        experiencia = round(random.uniform(0.1, 10.0), 1)\n",
    "        salario = random.randint(30000, 110000)\n",
    "\n",
    "        # Probabilidade de ser conta paga aumenta com experiência e salário\n",
    "        probabilidade = 1 / (1 + pow(2.718, -(0.3 * experiencia + 0.00005 * salario - 4)))\n",
    "        conta_paga = 1 if random.random() < probabilidade else 0\n",
    "\n",
    "        dados.append((experiencia, salario, conta_paga))\n",
    "\n",
    "    X = [[1.0, experiencia, salario] for experiencia, salario, _ in dados]\n",
    "    y = [conta_paga for _, _, conta_paga in dados]\n",
    "\n",
    "    return X, y\n",
    "\n",
    "X, y = gerar_dados()"
   ]
  },
  {
   "cell_type": "code",
   "execution_count": 147,
   "metadata": {},
   "outputs": [
    {
     "data": {
      "text/plain": [
       "[[1.0, 8.5, 74867],\n",
       " [1.0, 1.3, 87974],\n",
       " [1.0, 0.2, 83727],\n",
       " [1.0, 8.8, 70821],\n",
       " [1.0, 3.9, 62890]]"
      ]
     },
     "execution_count": 147,
     "metadata": {},
     "output_type": "execute_result"
    }
   ],
   "source": [
    "X[:5]"
   ]
  },
  {
   "cell_type": "code",
   "execution_count": 148,
   "metadata": {},
   "outputs": [
    {
     "data": {
      "text/plain": [
       "[1, 1, 0, 1, 1]"
      ]
     },
     "execution_count": 148,
     "metadata": {},
     "output_type": "execute_result"
    }
   ],
   "source": [
    "y[:5]"
   ]
  },
  {
   "cell_type": "code",
   "execution_count": null,
   "metadata": {},
   "outputs": [
    {
     "name": "stderr",
     "output_type": "stream",
     "text": [
      "loss: 60.962 beta: [1.2666264088932833, 1.0039728602743085, 1.1112314590696255]: 100%|██████████| 5000/5000 [00:05<00:00, 985.80it/s] \n"
     ]
    },
    {
     "data": {
      "text/plain": [
       "[1.2666264088932833, 1.0039728602743085, 1.1112314590696255]"
      ]
     },
     "execution_count": 107,
     "metadata": {},
     "output_type": "execute_result"
    }
   ],
   "source": [
    "from utils import train_test_split, gradient_step, rescale\n",
    "from reg_logistica import negative_log_gradient, negative_log_likelihood\n",
    "import tqdm\n",
    "\n",
    "scaled_X = rescale(X)\n",
    "\n",
    "random.seed(0)\n",
    "X_train, X_test, y_train, y_test = train_test_split(scaled_X, y, 0.33)\n",
    "\n",
    "learning_rate = 0.01\n",
    "\n",
    "# começa com um ponto incial aleatório\n",
    "beta = [random.random() for _ in range(3)]\n",
    "\n",
    "with tqdm.trange(5000) as t:\n",
    "    for epoch in t:\n",
    "        gradient = negative_log_gradient(X_train, y_train, beta)\n",
    "        beta = gradient_step(beta, gradient, -learning_rate)\n",
    "        loss = negative_log_likelihood(X_train, y_train, beta)\n",
    "        t.set_description(f\"loss: {loss:.3f} beta: {beta}\")\n",
    "\n",
    "beta"
   ]
  },
  {
   "cell_type": "markdown",
   "metadata": {},
   "source": [
    "Esses são os coeficientes dos dados redimensionados, mas é possível recuperar os dados originais:"
   ]
  },
  {
   "cell_type": "code",
   "execution_count": 104,
   "metadata": {},
   "outputs": [
    {
     "data": {
      "text/plain": [
       "[-3.46787253620555, 0.23973276059543563, 4.564868870366028e-05]"
      ]
     },
     "execution_count": 104,
     "metadata": {},
     "output_type": "execute_result"
    }
   ],
   "source": [
    "from utils import scale\n",
    "\n",
    "means, stdevs = scale(X)\n",
    "beta_unscaled = [(beta[0]\n",
    "                    - beta[1] * means[1] / stdevs[1]\n",
    "                    - beta[2] * means[2] / stdevs[2]),\n",
    "                    beta[1] / stdevs[1],\n",
    "                    beta[2] / stdevs[2]]\n",
    "\n",
    "beta_unscaled"
   ]
  },
  {
   "cell_type": "markdown",
   "metadata": {},
   "source": [
    "Os coeficientes que encontramos foram:\n",
    "\n",
    "- Intercepto: -3.47\n",
    "- Experiência: +0.24\n",
    "- Salário: +0.0000456\n",
    "\n",
    "Esses valores indicam como cada variável impacta a saída da função logística, que por sua vez determina a probabilidade de alguém ter uma conta paga.\n",
    "\n",
    "De forma geral, quanto maior a experiência, maior a chance de a pessoa ser assinante. O salário também tem uma influência positiva, mas bem mais sutil — mesmo um aumento de R$10.000 no salário só contribui com um pequeno acréscimo na probabilidade.\n",
    "\n",
    "Vale lembrar que esses impactos não são diretos na probabilidade, mas sim na função logística. Isso significa que:\n",
    "\n",
    "- Quando o modelo já indica uma alta probabilidade, mudanças nos dados têm pouco efeito.\n",
    "- Mas quando a probabilidade está próxima de 50%, até pequenos aumentos podem fazer bastante diferença.\n",
    "\n",
    "No fim das contas, o modelo sugere que a experiência é o fator mais relevante para prever quem é assinante, enquanto o salário tem um papel menor, mas ainda assim positivo."
   ]
  },
  {
   "cell_type": "code",
   "execution_count": null,
   "metadata": {},
   "outputs": [
    {
     "name": "stdout",
     "output_type": "stream",
     "text": [
      "Precisão: 78.43%\n",
      "Recall: 88.89%\n"
     ]
    }
   ],
   "source": [
    "from reg_logistica import logistic, dot\n",
    "\n",
    "true_positives = false_positives = true_negatives = false_negatives = 0\n",
    "\n",
    "for x_i, y_i in zip(X_test, y_test):\n",
    "    prediction = logistic(dot(beta, x_i))\n",
    "\n",
    "    if y_i == 1 and prediction >= 0.5:  # TP: paga e previmos paga\n",
    "        true_positives += 1\n",
    "    elif y_i == 1:                      # FN: paga e previmos não paga\n",
    "        false_negatives += 1\n",
    "    elif prediction >= 0.5:             # FP: não paga e previmos paga\n",
    "        false_positives += 1\n",
    "    else:                               # TN: não paga e previmos não paga\n",
    "        true_negatives += 1\n",
    "\n",
    "precision = true_positives / (true_positives + false_positives)\n",
    "recall = true_positives / (true_positives + false_negatives)\n",
    "\n",
    "print(f\"Precisão: {precision:.2%}\\nRecall: {recall:.2%}\")"
   ]
  },
  {
   "cell_type": "markdown",
   "metadata": {},
   "source": [
    "Com uma precisão de 78,43% e um recall de 88,89%, podemos concluir que o modelo está se saindo bem na tarefa de identificar corretamente os assinantes.\n",
    "\n",
    "A alta taxa de recall indica que o modelo consegue encontrar a maioria das pessoas que realmente possuem conta paga, ou seja, ele comete poucos falsos negativos. Já a boa precisão mostra que, entre os casos em que o modelo prevê que alguém é assinante, a maioria realmente é.\n",
    "\n",
    "Em resumo, é um modelo equilibrado, mas com um leve foco em não deixar passar assinantes reais, o que pode ser positivo em cenários onde é mais importante capturar todos os possíveis clientes pagantes, mesmo que isso gere alguns falsos positivos."
   ]
  },
  {
   "cell_type": "markdown",
   "metadata": {},
   "source": [
    "Aqui plotamos as previsões e comparamos com os dados reais:"
   ]
  },
  {
   "cell_type": "code",
   "execution_count": null,
   "metadata": {},
   "outputs": [
    {
     "data": {
      "image/png": "[encoded data removed]",
      "text/plain": [
       "<Figure size 640x480 with 1 Axes>"
      ]
     },
     "metadata": {},
     "output_type": "display_data"
    }
   ],
   "source": [
    "import matplotlib.pyplot as plt\n",
    "\n",
    "predictions = [logistic(dot(beta, x_i)) for x_i in X_test]\n",
    "plt.scatter(predictions, y_test, marker='+')\n",
    "plt.xlabel(\"probabilidade prevista\")\n",
    "plt.ylabel(\"valor real\")\n",
    "plt.title(\"Previsão da Regressão Logística vs Real\")\n",
    "plt.show()"
   ]
  },
  {
   "cell_type": "markdown",
   "metadata": {},
   "source": [
    "### Com o Scikit-Learn"
   ]
  },
  {
   "cell_type": "code",
   "execution_count": 143,
   "metadata": {},
   "outputs": [
    {
     "name": "stdout",
     "output_type": "stream",
     "text": [
      "Precisão (sklearn): 81.82%\n",
      "Recall (sklearn): 94.12%\n"
     ]
    }
   ],
   "source": [
    "from sklearn.model_selection import train_test_split\n",
    "from sklearn.metrics import accuracy_score, recall_score\n",
    "from sklearn.preprocessing import StandardScaler\n",
    "from sklearn.linear_model import LogisticRegression\n",
    "\n",
    "reg_logistica = LogisticRegression()\n",
    "scaler = StandardScaler()\n",
    "\n",
    "X_scaled = scaler.fit_transform(X)\n",
    "\n",
    "X_train_sklearn, X_test_sklearn, y_train_sklearn, y_test_sklearn = train_test_split(X_scaled, y, test_size=0.33)\n",
    "\n",
    "reg_logistica.fit(X_train_sklearn, y_train_sklearn)\n",
    "pred = reg_logistica.predict(X_test_sklearn)\n",
    "precision_sklearn = accuracy_score(y_test_sklearn, pred)\n",
    "recall_sklearn = recall_score(y_test_sklearn, pred)\n",
    "\n",
    "print(f\"Precisão (sklearn): {precision_sklearn:.2%}\")\n",
    "print(f\"Recall (sklearn): {recall_sklearn:.2%}\")"
   ]
  },
  {
   "cell_type": "markdown",
   "metadata": {},
   "source": [
    "Com o modelo de Regressão Logística do scikit-learn, os resultados foram ainda melhores: uma precisão de 81,82% e um recall de 94,12%.\n",
    "\n",
    "Esses números indicam que o modelo conseguiu identificar corretamente uma proporção ainda maior de assinantes (recall), e com maior confiança nas suas previsões (precisão). Comparado ao modelo implementado do zero, o scikit-learn obteve um desempenho mais alto nos dois aspectos, provavelmente devido a otimizações numéricas e técnicas mais refinadas no processo de ajuste.\n",
    "\n",
    "No geral, isso reforça como entender o funcionamento interno do modelo ajuda a aprender, mas também mostra o poder das bibliotecas prontas para aplicações reais e de maior escala."
   ]
  },
  {
   "cell_type": "code",
   "execution_count": 145,
   "metadata": {},
   "outputs": [
    {
     "data": {
      "text/plain": [
       "array([[0.        , 0.80413878, 1.00670866]])"
      ]
     },
     "execution_count": 145,
     "metadata": {},
     "output_type": "execute_result"
    }
   ],
   "source": [
    "reg_logistica.coef_"
   ]
  },
  {
   "cell_type": "markdown",
   "metadata": {},
   "source": [
    "O coeficiente de experiência (0.80) sugere que, mantendo o salário constante, aumentar um ano de experiência aumenta a probabilidade da pessoa assinar uma conta paga.\n",
    "\n",
    "O coeficiente de salário (1.00) indica que, também mantendo os demais fatores constantes, um salário maior está associado a uma maior chance de assinatura.\n",
    "\n",
    "Diferente do modelo anterior, esse resultado mostra que tanto experiência quanto salário influenciam positivamente a probabilidade de uma pessoa ser assinante.\n",
    "\n",
    "Isso pode indicar um perfil de usuários que estão mais estabilizados profissionalmente e dispostos a investir em ferramentas premium — o que faz sentido em muitos contextos."
   ]
  }
 ],
 "metadata": {
  "kernelspec": {
   "display_name": "Python 3",
   "language": "python",
   "name": "python3"
  },
  "language_info": {
   "codemirror_mode": {
    "name": "ipython",
    "version": 3
   },
   "file_extension": ".py",
   "mimetype": "text/x-python",
   "name": "python",
   "nbconvert_exporter": "python",
   "pygments_lexer": "ipython3",
   "version": "3.13.1"
  }
 },
 "nbformat": 4,
 "nbformat_minor": 2
}
