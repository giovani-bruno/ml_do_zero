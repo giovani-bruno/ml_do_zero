{
 "cells": [
  {
   "cell_type": "markdown",
   "metadata": {},
   "source": [
    "## Regressão Linear Simples\n",
    "\n",
    "Para entender a Regressão Linear Simples, primeiro precisamos compreender a equação da reta, pois é ela que serve de base para o modelo.\n",
    "\n",
    "A equação da reta usada na regressão linear simples é:\n",
    "<br>\n",
    "<br>\n",
    "$$\n",
    "y=βx+α+ε\n",
    "$$\n",
    "<br>\n",
    "\n",
    "Cada termo dessa equação tem um significado importante:\n",
    "\n",
    "- y --> Variável dependente (o que queremos prever).\n",
    "- x --> Variável independente (o que usamos para fazer a previsão).\n",
    "- β (beta) --> Indica a inclinação da reta, ou seja, o quanto y muda quando  x aumenta em 1 unidade.\n",
    "- α (alpha) --> Valor de y quando x = 0, ou seja, onde a reta cruza o eixo y.\n",
    "- ε (erro) --> Diferença entre o valor real e o valor previsto pelo modelo."
   ]
  },
  {
   "cell_type": "markdown",
   "metadata": {},
   "source": [
    "## Como Interpretar os Coeficientes (𝛼 e  β)?\n",
    "\n",
    "Vamos pensar em um exemplo:\n",
    "\n",
    "Suponha que estamos analisando a relação entre a quantidade de horas estudadas (x) e a nota em um teste (y).\n",
    "\n",
    "Após aplicar a regressão linear, encontramos a equação:\n",
    "<br>\n",
    "<br>\n",
    "$$\n",
    "Nota = 5 + 2 \\times (Horas de estudo)\n",
    "$$\n",
    "<br>\n",
    "\n",
    "Aqui:\n",
    "\n",
    "- α = 5 --> Se um estudante não estudar nada (x=0), espera-se que ele tire 5 na prova.\n",
    "- β = 2 --> Para cada hora extra de estudo, a nota aumenta 2 pontos.\n",
    "\n",
    "Se um aluno estudar 3 horas, a previsão da nota será:\n",
    "<br>\n",
    "<br>\n",
    "$$\n",
    "Nota=5+2×3=11\n",
    "$$\n",
    "<br>"
   ]
  },
  {
   "cell_type": "markdown",
   "metadata": {},
   "source": [
    "## Entendendo o beta (β)\n",
    "\n",
    "O beta é a inclinação da reta, ele determina se a relação entre x e y é:\n",
    "\n",
    "- Positiva (β>0) --> Quando x aumenta, y também aumenta. (Exemplo: mais horas de estudo --> maior nota).\n",
    "- Negativa (β<0) --> Quando x aumenta, y diminui. (Exemplo: mais tempo no celular --> menor nota).\n",
    "- Nula (β=0) --> Não há relação entre x e y.\n",
    "\n",
    "A inclinação pode ser interpretada graficamente:\n",
    "\n",
    "- Uma reta mais inclinada significa que pequenas mudanças em x causam grandes variações em y.\n",
    "- Uma reta quase horizontal significa que mudanças em x têm pouco impacto sobre y.\n",
    "\n",
    "![reglin](reglin.png)"
   ]
  },
  {
   "cell_type": "markdown",
   "metadata": {},
   "source": [
    "## Entendendo o alpha (α)\n",
    "\n",
    "O coeficiente 𝛼 (alpha) é o intercepto da equação e indica o valor de  y  quando  x = 0 . No entanto, sua interpretação pode variar dependendo do contexto\n",
    "\n",
    "Exemplo problemático:\n",
    "Se estivermos estudando a relação entre experiência profissional (anos de trabalho) e salário, e encontrarmos:\n",
    "<br>\n",
    "<br>\n",
    "$$\n",
    "Salário=2000+500×(Anos de experiência)\n",
    "$$\n",
    "<br>\n",
    "\n",
    "Isso sugere que alguém sem experiência ganharia R$ 2000. Faz sentido? Talvez sim, se houver um salário base. Mas, em alguns casos, x = 0 pode não ser realista (como \"peso corporal = 0 kg\" em um estudo de altura vs peso)."
   ]
  },
  {
   "cell_type": "markdown",
   "metadata": {},
   "source": [
    "## A Importância do Erro (ε)\n",
    "\n",
    "Na prática, os dados nunca seguem uma reta perfeita. O termo ε representa essa variação não explicada pelo modelo.\n",
    "\n",
    "Por exemplo, se dois alunos estudam 3 horas, um pode tirar 11 e outro 12. Isso pode ser devido a outros fatores como sono, alimentação ou motivação, que não foram considerados no modelo."
   ]
  },
  {
   "cell_type": "markdown",
   "metadata": {},
   "source": [
    "## Implementando\n",
    "\n",
    "A regressão linear simples é uma técnica estatística usada para modelar a relação entre duas variáveis. No nosso caso, o objetivo é prever a nota de um aluno com base nas horas estudadas na semana.\n",
    "\n",
    "A ideia básica da regressão linear é encontrar uma equação da forma:\n",
    "<br>\n",
    "<br>\n",
    "$$\n",
    "y=βx+α+ε\n",
    "$$\n",
    "<br>\n",
    "Onde:\n",
    "\n",
    "- y é a variável dependente (nota do aluno)\n",
    "- x é a variável independente (horas estudadas)\n",
    "- β é o coeficiente angular, indicando o impacto de x sobre y\n",
    "- α é o coeficiente de interceptação, representando o valor de y quando x = 0\n",
    "- ε é o termo de erro, que inclui fatores não considerados no modelo.\n",
    "\n",
    "O objetivo da regressão é encontrar os valores de α e β que melhor se ajustam aos dados."
   ]
  },
  {
   "cell_type": "markdown",
   "metadata": {},
   "source": [
    "### Prevendo valores\n",
    "\n",
    "Se já tivermos os coeficientes, podemos prever a nota do aluno com base nas horas estudadas:\n",
    "\n",
    "```python\n",
    "def predict(alpha: float, beta: float, x_i: float) -> float:\n",
    "    return beta * x_i + alpha\n",
    "```\n",
    "\n",
    "### Calculando o erro\n",
    "\n",
    "Como os dados reais não são perfeitamente alinhados, há sempre um erro entre a previsão e o valor real. O erro para um único dado é:\n",
    "```python\n",
    "def error(alpha: float, beta: float, x_i: float, y_i: float) -> float:\n",
    "    return predict(alpha, beta, x_i) - y_i\n",
    "```\n",
    "\n",
    "Se somarmos os erros diretamente, erros positivos podem cancelar erros negativos, mascarando a verdadeira diferença. Por isso, usamos a soma dos erros quadráticos:\n",
    "\n",
    "```python\n",
    "def sum_of_sqerrors(alpha: float, beta: float, x: list, y: list) -> float:\n",
    "    return sum(error(alpha, beta, x_i, y_i) ** 2 for x_i, y_i in zip(x, y))\n",
    "```\n",
    "\n",
    "### Encontrando os melhores coeficientes (α e β)\n",
    "\n",
    "Para minimizar os erros, usamos a solução dos mínimos quadrados, que calcula:\n",
    "\n",
    "$$\n",
    "β = \\frac{correlation(x, y) \\times std(y)}{std(x)}\n",
    "$$\n",
    "\n",
    "$$\n",
    "α = mean(y) - β \\times mean(x)\n",
    "$$\n",
    "\n",
    "```python\n",
    "def least_squares_fit(x: list, y: list) -> tuple:\n",
    "    beta = correlation(x, y) * standard_deviation(y) / standard_deviation(x)\n",
    "    alpha = mean(y) - beta * mean(x)\n",
    "    return alpha, beta\n",
    "```\n",
    "\n",
    "### Qualidade de Ajuste - O $R^2$\n",
    "\n",
    "O coeficiente de determinação $(R^2)$ mede o quanto a variação dos dados é explicada pelo modelo. Ele varia entre 0 e 1, onde:\n",
    "\n",
    "- $R^2$ < 0.5 --> O modelo tem baixa explicação.\n",
    "- $R^2$ > 0.5 --> O modelo tem boa explicação.\n",
    "\n",
    "```python\n",
    "def r_squared(alpha: float, beta: float, x: list, y: list) -> float:\n",
    "    return 1.0 - (sum_of_sqerrors(alpha, beta, x, y) / total_sum_of_squares(y))\n",
    "```"
   ]
  },
  {
   "cell_type": "markdown",
   "metadata": {},
   "source": [
    "# Usando o Modelo"
   ]
  },
  {
   "cell_type": "markdown",
   "metadata": {},
   "source": [
    "Estamos analisando o desempenho dos alunos e investigando a relação entre o número de horas estudadas por semana e a nota obtida na prova. Os dados coletados indicam uma tendência: alunos que estudam mais tendem a obter notas mais altas.\n",
    "\n",
    "Diante disso, a coordenação acadêmica solicitou um modelo que descreva essa relação, a fim de entender melhor como o tempo de estudo influencia o desempenho dos alunos e auxiliar na definição de estratégias para melhorar os resultados. Como observamos uma forte correlação linear entre essas variáveis, um modelo de regressão linear parece ser um bom ponto de partida para essa análise."
   ]
  },
  {
   "cell_type": "code",
   "execution_count": 2,
   "metadata": {},
   "outputs": [],
   "source": [
    "import numpy as np\n",
    "\n",
    "horas_estudo = np.random.uniform(1, 20, 50)  # Entre 1 e 20 horas de estudo por semana\n",
    "notas_prova = 3 * horas_estudo + np.random.normal(0, 5, 50)  # Relação linear com ruído\n",
    "notas_prova = np.clip(notas_prova, 0, 100)  # Garantindo que a nota fique no intervalo 0-100"
   ]
  },
  {
   "cell_type": "code",
   "execution_count": 3,
   "metadata": {},
   "outputs": [
    {
     "data": {
      "text/plain": [
       "np.float64(0.9539671138597262)"
      ]
     },
     "execution_count": 3,
     "metadata": {},
     "output_type": "execute_result"
    }
   ],
   "source": [
    "from utils import correlation\n",
    "\n",
    "correlation(horas_estudo, notas_prova)"
   ]
  },
  {
   "cell_type": "code",
   "execution_count": 4,
   "metadata": {},
   "outputs": [
    {
     "data": {
      "text/plain": [
       "(np.float64(1.8473266535020407), np.float64(2.946969904515517))"
      ]
     },
     "execution_count": 4,
     "metadata": {},
     "output_type": "execute_result"
    }
   ],
   "source": [
    "from reglin_simples import least_squares_fit\n",
    "\n",
    "alpha, beta = least_squares_fit(horas_estudo, notas_prova)\n",
    "alpha, beta"
   ]
  },
  {
   "cell_type": "markdown",
   "metadata": {},
   "source": [
    "Obtemos os valores alpha = 0.54 e beta = 2.94. Portanto, o modelo indica que um aluno que estuda h horas por semana tem uma nota prevista de 0.54 + (h*2.94) na prova. Ou seja, um aluno que não estuda tem uma nota prevista de 0.54. Além disso, para cada hora adicional de estudo por semana, a nota do aluno aumenta, em média, 2.94 pontos.\n",
    "\n",
    "No gráfico abaixo, plotamos a linha de previsão para visualizar em que medida modelo se ajusta aos dados observados."
   ]
  },
  {
   "cell_type": "code",
   "execution_count": 5,
   "metadata": {},
   "outputs": [
    {
     "data": {
      "image/png": "[encoded data removed]",
      "text/plain": [
       "<Figure size 640x480 with 1 Axes>"
      ]
     },
     "metadata": {},
     "output_type": "display_data"
    }
   ],
   "source": [
    "import matplotlib.pyplot as plt\n",
    "\n",
    "plt.scatter(horas_estudo, notas_prova, label=\"Real\")\n",
    "plt.plot(horas_estudo, alpha + beta * horas_estudo, color='red', label=\"Previsto\")\n",
    "plt.xlabel(\"Horas Estudadas\")\n",
    "plt.ylabel(\"Nota\")\n",
    "plt.legend()\n",
    "plt.show()"
   ]
  },
  {
   "cell_type": "markdown",
   "metadata": {},
   "source": [
    "Precisamos de uma forma melhor de definir o ajuste dos dados do que uma simples observação do gráfico. Para isso, usaremos o coeficiente de determinação, o R-quadrado, que mede a fração da variação total na variável dependente, capturada pelo modelo:"
   ]
  },
  {
   "cell_type": "code",
   "execution_count": 6,
   "metadata": {},
   "outputs": [
    {
     "data": {
      "text/plain": [
       "np.float64(0.9100532543258565)"
      ]
     },
     "execution_count": 6,
     "metadata": {},
     "output_type": "execute_result"
    }
   ],
   "source": [
    "from reglin_simples import r_squared\n",
    "\n",
    "r_squared(alpha, beta, horas_estudo, notas_prova)"
   ]
  },
  {
   "cell_type": "markdown",
   "metadata": {},
   "source": [
    "Lembre-se: quanto mais próximo de 1, melhor será o ajuste do modelo aos dados. Aqui, calculamos um R-quadrado de 0.92, um valor excelente."
   ]
  },
  {
   "cell_type": "markdown",
   "metadata": {},
   "source": [
    "## Gradiente Descendente\n",
    "Podemos encontrar o valor para α e 𝛽 usando o gradiente descendente, ajustando os valores a cada iteração para minimizar o erro:"
   ]
  },
  {
   "cell_type": "code",
   "execution_count": 7,
   "metadata": {},
   "outputs": [
    {
     "name": "stderr",
     "output_type": "stream",
     "text": [
      "loss: 1414.253: 100%|██████████| 10000/10000 [00:05<00:00, 1732.93it/s]\n"
     ]
    },
    {
     "data": {
      "text/plain": [
       "(np.float64(1.7693122772670713), np.float64(2.9527708914837505))"
      ]
     },
     "execution_count": 7,
     "metadata": {},
     "output_type": "execute_result"
    }
   ],
   "source": [
    "import random\n",
    "import tqdm\n",
    "from reglin_simples import error, sum_of_sqerrors\n",
    "from utils import gradient_step\n",
    "\n",
    "num_epochs = 10000\n",
    "random.seed(0)\n",
    "\n",
    "guess = [random.random(), random.random()]  # começa com um valor aleatório\n",
    "\n",
    "learning_rate = 0.00001\n",
    "\n",
    "with tqdm.trange(num_epochs) as t:\n",
    "    for _ in t:\n",
    "        alpha, beta = guess\n",
    "\n",
    "        # Derivada parcial da perda em relação a alpha\n",
    "        grad_a = sum(2 * error(alpha, beta, x_i, y_i)\n",
    "                        for x_i, y_i in zip(horas_estudo,\n",
    "                                            notas_prova))\n",
    "\n",
    "        # Derivada parcial da perda em relação a beta\n",
    "        grad_b = sum(2 * error(alpha, beta, x_i, y_i) * x_i\n",
    "                        for x_i, y_i in zip(horas_estudo,\n",
    "                                            notas_prova))\n",
    "\n",
    "        # Compute a perda para colocar na descrição do tqdm\n",
    "        loss = sum_of_sqerrors(alpha, beta,\n",
    "                                horas_estudo, notas_prova)\n",
    "        t.set_description(f\"loss: {loss:.3f}\")\n",
    "\n",
    "        # Finalmente, atualize a estimativa\n",
    "        guess = gradient_step(guess, [grad_a, grad_b], -learning_rate)\n",
    "\n",
    "# Obteremos praticamente o mesmo resultado\n",
    "alpha, beta = guess\n",
    "alpha, beta"
   ]
  },
  {
   "cell_type": "code",
   "execution_count": 8,
   "metadata": {},
   "outputs": [],
   "source": [
    "def plot_regressao_linear(x_test, y_test, y_pred, sklearn=False):\n",
    "    plt.scatter(x_test, y_test, label=\"Real\", color=\"blue\", alpha=0.7)\n",
    "    plt.plot(x_test, y_pred, label=\"Previsto\", color=\"red\")\n",
    "    plt.xlabel(\"Horas de Estudo por Semana\")\n",
    "    plt.ylabel(\"Nota na Prova\")\n",
    "    plt.legend()\n",
    "    plt.title(\"Regressão Linear Simples\") if not sklearn else plt.title(\"Regressão Linear Simples (Scikit-Learn)\")\n",
    "    plt.show()\n",
    "\n",
    "def show_metrics(r2, alpha, beta):\n",
    "    print(f\"Alpha (intercepto): {alpha:.2f}\")\n",
    "    print(f\"Beta (coeficiente angular): {beta:.2f}\")\n",
    "    print(f\"R² no conjunto de teste: {r2:.4f}\")"
   ]
  },
  {
   "cell_type": "code",
   "execution_count": 9,
   "metadata": {},
   "outputs": [
    {
     "name": "stdout",
     "output_type": "stream",
     "text": [
      "Alpha (intercepto): 0.94\n",
      "Beta (coeficiente angular): 3.00\n",
      "R² no conjunto de teste: 0.9131\n"
     ]
    },
    {
     "data": {
      "image/png": "[encoded data removed]",
      "text/plain": [
       "<Figure size 640x480 with 1 Axes>"
      ]
     },
     "metadata": {},
     "output_type": "display_data"
    }
   ],
   "source": [
    "from reglin_simples import predict\n",
    "\n",
    "# Dividindo em treino (80%) e teste (20%)\n",
    "indices = list(range(len(horas_estudo)))\n",
    "random.shuffle(indices)\n",
    "train_size = int(0.8 * len(indices))\n",
    "\n",
    "train_indices = indices[:train_size]\n",
    "test_indices = indices[train_size:]\n",
    "\n",
    "x_train, y_train = horas_estudo[train_indices], notas_prova[train_indices]\n",
    "x_test, y_test = horas_estudo[test_indices], notas_prova[test_indices]\n",
    "\n",
    "# Treinando o modelo\n",
    "alpha, beta = least_squares_fit(x_train, y_train)\n",
    "\n",
    "# Fazendo previsões no conjunto de teste\n",
    "y_pred = [predict(alpha, beta, x_i) for x_i in x_test]\n",
    "\n",
    "r2 = r_squared(alpha, beta, x_test, y_test)\n",
    "\n",
    "show_metrics(r2, alpha, beta)\n",
    "plot_regressao_linear(x_test, y_test, y_pred)"
   ]
  },
  {
   "cell_type": "markdown",
   "metadata": {},
   "source": [
    "## Com o Scikit-Learn"
   ]
  },
  {
   "cell_type": "code",
   "execution_count": 10,
   "metadata": {},
   "outputs": [
    {
     "name": "stdout",
     "output_type": "stream",
     "text": [
      "Alpha (intercepto): 1.13\n",
      "Beta (coeficiente angular): 3.00\n",
      "R² no conjunto de teste: 0.9449\n"
     ]
    },
    {
     "data": {
      "image/png": "[encoded data removed]",
      "text/plain": [
       "<Figure size 640x480 with 1 Axes>"
      ]
     },
     "metadata": {},
     "output_type": "display_data"
    }
   ],
   "source": [
    "from sklearn.linear_model import LinearRegression\n",
    "from sklearn.metrics import r2_score\n",
    "from sklearn.model_selection import train_test_split\n",
    "\n",
    "X_train, X_test, y_train, y_test = train_test_split(horas_estudo.reshape(-1, 1), notas_prova, test_size=0.2)\n",
    "\n",
    "reglin = LinearRegression()\n",
    "reglin.fit(X_train, y_train)\n",
    "pred = reglin.predict(X_test)\n",
    "\n",
    "r2 = r2_score(y_test, pred)\n",
    "\n",
    "show_metrics(r2, reglin.intercept_, reglin.coef_[0])\n",
    "plot_regressao_linear(X_test, y_test, pred, sklearn=True)"
   ]
  },
  {
   "cell_type": "markdown",
   "metadata": {},
   "source": [
    "Para prever a nota de um aluno que estudou 4 horas por semana, podemos usar:"
   ]
  },
  {
   "cell_type": "code",
   "execution_count": 11,
   "metadata": {},
   "outputs": [
    {
     "data": {
      "text/plain": [
       "array([13.11583858])"
      ]
     },
     "execution_count": 11,
     "metadata": {},
     "output_type": "execute_result"
    }
   ],
   "source": [
    "reglin.intercept_ + (4 * reglin.coef_) # y = intercepto + (4 * coeficiente angular)"
   ]
  },
  {
   "cell_type": "markdown",
   "metadata": {},
   "source": [
    "Ou:"
   ]
  },
  {
   "cell_type": "code",
   "execution_count": 12,
   "metadata": {},
   "outputs": [
    {
     "data": {
      "text/plain": [
       "array([13.11583858])"
      ]
     },
     "execution_count": 12,
     "metadata": {},
     "output_type": "execute_result"
    }
   ],
   "source": [
    "reglin.predict([[4]])"
   ]
  },
  {
   "cell_type": "markdown",
   "metadata": {},
   "source": [
    "A comparação entre a implementação manual e a do scikit-learn revela algumas diferenças nos coeficientes e no desempenho do modelo:\n",
    "\n",
    "Implementação manual:\n",
    "\n",
    "- Intercepto (Alpha) = 1.15\n",
    "- Coeficiente angular (Beta) = 2.87\n",
    "- R² no conjunto de teste = 0.9246\n",
    "\n",
    "Implementação com scikit-learn:\n",
    "- Intercepto (Alpha) = 0.10\n",
    "- Coeficiente angular (Beta) = 3.04\n",
    "- R² no conjunto de teste = 0.8756\n",
    "\n",
    "A implementação manual resultou em um intercepto maior (1.15 vs. 0.10) e um coeficiente angular um pouco menor (2.87 vs. 3.04). Essas variações podem ocorrer por diferenças na forma de cálculo da regressão, especialmente na maneira como os dados foram padronizados ou processados.\n",
    "\n",
    "Diferença no desempenho (R²)\n",
    "O modelo manual apresentou um R² ligeiramente maior (0.9247 vs. 0.8756), indicando que ele explicou melhor a variabilidade dos dados no conjunto de teste. No entanto, a diferença não é muito grande, e ambos os modelos parecem se ajustar bem aos dados.\n",
    "\n",
    "Possíveis razões para a diferença\n",
    "\n",
    "- Pequenas variações podem surgir devido a diferenças na implementação matemática dos cálculos estatísticos.\n",
    "- O scikit-learn pode estar aplicando técnicas de regularização ou ajustes internos que afetam os coeficientes.\n",
    "- Diferenças na forma como os dados foram divididos em treino e teste podem impactar os resultados.\n",
    "\n",
    "Apesar das diferenças numéricas, ambos os modelos mostram um bom ajuste aos dados. O modelo manual apresentou um R² um pouco maior, mas o scikit-learn ainda é a escolha preferida para aplicações reais, pois é otimizado e testado para diversos cenários. Se a diferença for relevante, pode valer a pena revisar a implementação manual para garantir que não há erros na normalização ou nos cálculos da regressão."
   ]
  }
 ],
 "metadata": {
  "kernelspec": {
   "display_name": "Python 3",
   "language": "python",
   "name": "python3"
  },
  "language_info": {
   "codemirror_mode": {
    "name": "ipython",
    "version": 3
   },
   "file_extension": ".py",
   "mimetype": "text/x-python",
   "name": "python",
   "nbconvert_exporter": "python",
   "pygments_lexer": "ipython3",
   "version": "3.13.1"
  }
 },
 "nbformat": 4,
 "nbformat_minor": 2
}
