{
 "cells": [
  {
   "cell_type": "markdown",
   "id": "f40ae0f8",
   "metadata": {},
   "source": [
    "O algoritmo K-Nearest Neighbors (KNN) é um modelo de aprendizado supervisionado baseado na similaridade entre os dados. Ele funciona classificando um novo ponto de acordo com os k vizinhos mais próximos no conjunto de treinamento.\n",
    "\n",
    "Como o KNN Funciona\n",
    "\n",
    "- Escolha do valor de K: Determina quantos vizinhos mais próximos serão considerados para classificar um novo dado.\n",
    "- Cálculo da distância: Para cada novo ponto, calculamos sua distância para todos os pontos do conjunto de treinamento. No nosso caso, utilizamos a distância Euclidiana.\n",
    "- Identificação dos K vizinhos mais próximos: Selecionamos os K pontos mais próximos ao novo ponto de teste.\n",
    "- Votação majoritária: O novo ponto recebe a classificação mais comum entre seus vizinhos.\n",
    "\n",
    "Funções Implementadas\n",
    "\n",
    "- distancia(v, w): Calcula a distância Euclidiana entre dois pontos.\n",
    "- voto_majoritario(rotulos): Determina a classe do novo ponto com base nos vizinhos mais próximos.\n",
    "- knn_classify(k, pontos_rotulados, novo_ponto): Implementa o KNN, organizando os pontos por proximidade, selecionando os k mais próximos e aplicando a votação majoritária."
   ]
  },
  {
   "cell_type": "markdown",
   "id": "155fda30",
   "metadata": {},
   "source": [
    "Aplicação no Conjunto de Dados de Frutas\n",
    "\n",
    "Para avaliar o modelo, criamos um conjunto de dados sintético representando frutas, onde cada fruta possui dois atributos:\n",
    "- Peso (g): Varia entre 50g e 300g.\n",
    "- Doçura (escala de 1 a 10).\n",
    "\n",
    "As frutas foram classificadas com base nesses atributos:\n",
    "- Banana: Se o peso for maior que 150g e a doçura maior que 5.\n",
    "- Maçã: Caso contrário."
   ]
  },
  {
   "cell_type": "code",
   "execution_count": 40,
   "id": "53fcaefb-1957-4625-96c7-3da7146ebc0a",
   "metadata": {},
   "outputs": [
    {
     "data": {
      "text/plain": [
       "[LabeledPoint(point=[87.30043571026253, 1.835123759598527], label='Maçã'),\n",
       " LabeledPoint(point=[129.60122232635698, 4.172818614239817], label='Maçã'),\n",
       " LabeledPoint(point=[151.0366667842142, 7.311646218291517], label='Banana'),\n",
       " LabeledPoint(point=[191.55333419648827, 1.8243734186864518], label='Maçã'),\n",
       " LabeledPoint(point=[156.08294710400844, 6.025351769592593], label='Banana')]"
      ]
     },
     "execution_count": 40,
     "metadata": {},
     "output_type": "execute_result"
    }
   ],
   "source": [
    "import random\n",
    "from knn import LabeledPoint\n",
    "\n",
    "# Função para gerar dados \n",
    "def gerar_dados_frutas(num_pontos=800):\n",
    "    dados = []\n",
    "    for _ in range(num_pontos):\n",
    "        # Gerando características: peso (em gramas) e doçura (escala de 1 a 10)\n",
    "        peso = random.uniform(50, 300)  # peso entre 50g e 300g\n",
    "        doce = random.uniform(1, 10)  # doçura entre 1 e 10\n",
    "        \n",
    "        # Rótulo baseado em regras simples: Maçã ou Banana\n",
    "        if peso > 150 and doce > 5:\n",
    "            label = 'Banana'\n",
    "        else:\n",
    "            label = 'Maçã'\n",
    "        \n",
    "        dados.append(LabeledPoint([peso, doce], label))\n",
    "    return dados\n",
    "\n",
    "# Gerando dados para testar no modelo\n",
    "dados_frutas = gerar_dados_frutas()\n",
    "\n",
    "# Mostrando os primeiros 5 dados gerados\n",
    "dados_frutas[:5]"
   ]
  },
  {
   "cell_type": "code",
   "execution_count": null,
   "id": "12893e77-5762-4776-a64d-d288494d6bde",
   "metadata": {
    "scrolled": true
   },
   "outputs": [
    {
     "data": {
      "text/plain": [
       "(560, 240)"
      ]
     },
     "execution_count": 41,
     "metadata": {},
     "output_type": "execute_result"
    }
   ],
   "source": [
    "from typing import TypeVar, Tuple, List\n",
    "\n",
    "X = TypeVar('X')  # tipo genérico para representar um ponto de dados\n",
    "\n",
    "def dividir_dados(dados: List[X], prop: float) -> Tuple[List[X], List[X]]:\n",
    "    \"\"\"Divide os dados em frações [prop, 1 - prop]\"\"\"\n",
    "    dados = dados[:]                    # Faz uma cópia rasa\n",
    "    random.shuffle(dados)               # porque shuffle modifica a lista.\n",
    "    corte = int(len(dados) * prop)  # Usa a prop para encontrar o ponto de corte\n",
    "    return dados[:corte], dados[corte:]\n",
    "\n",
    "fruit_train, fruit_test = dividir_dados(dados_frutas, 0.7)\n",
    "assert len(fruit_train) == 0.7 * 800\n",
    "assert len(fruit_test) == 0.3 * 800\n",
    "len(fruit_train), len(fruit_test)"
   ]
  },
  {
   "cell_type": "markdown",
   "id": "179ec2a9",
   "metadata": {},
   "source": [
    "## Testando o Modelo"
   ]
  },
  {
   "cell_type": "code",
   "execution_count": null,
   "id": "7cc57517-0568-42f6-993b-61e1368322df",
   "metadata": {},
   "outputs": [
    {
     "name": "stdout",
     "output_type": "stream",
     "text": [
      "0.9583333333333334\n",
      "defaultdict(<class 'int'>, {('Maçã', 'Maçã'): 155, ('Banana', 'Banana'): 75, ('Banana', 'Maçã'): 6, ('Maçã', 'Banana'): 4})\n"
     ]
    }
   ],
   "source": [
    "from collections import defaultdict\n",
    "from knn import knn_classify\n",
    "\n",
    "# Inicializando a matriz de confusão e o contador de acertos\n",
    "confusion_matrix = defaultdict(int)\n",
    "acertos = 0\n",
    "\n",
    "# Aplicando o modelo\n",
    "for fruta in fruit_test:\n",
    "    previsto = knn_classify(5, fruit_train, fruta.point)\n",
    "    real = fruta.label\n",
    "\n",
    "    if previsto == real:\n",
    "        acertos += 1\n",
    "\n",
    "    confusion_matrix[(previsto, real)] += 1\n",
    "\n",
    "# Calculando a precisão e mostrando a matriz de confusão\n",
    "accuracy = acertos / len(fruit_test)\n",
    "print(accuracy, confusion_matrix, sep=\"\\n\")\n"
   ]
  },
  {
   "cell_type": "markdown",
   "id": "99f0eb4d",
   "metadata": {},
   "source": [
    "## Com scikit-learn"
   ]
  },
  {
   "cell_type": "code",
   "execution_count": null,
   "id": "7535870c",
   "metadata": {},
   "outputs": [
    {
     "name": "stdout",
     "output_type": "stream",
     "text": [
      "0.9708333333333333\n",
      "[[ 70   4]\n",
      " [  3 163]]\n"
     ]
    }
   ],
   "source": [
    "from sklearn.neighbors import KNeighborsClassifier\n",
    "from sklearn.metrics import accuracy_score, confusion_matrix\n",
    "from sklearn.model_selection import train_test_split\n",
    "\n",
    "# Separar os dados em características (X) e rótulos (y)\n",
    "X = [fruta.point for fruta in dados_frutas]\n",
    "y = [fruta.label for fruta in dados_frutas]\n",
    "\n",
    "X_train, X_test, y_train, y_test = train_test_split(X, y, test_size=0.3)\n",
    "\n",
    "# Criar o modelo KNN com scikit-learn\n",
    "knn_sklearn = KNeighborsClassifier(n_neighbors=5)\n",
    "\n",
    "# Treinar o modelo\n",
    "knn_sklearn.fit(X_train, y_train)\n",
    "\n",
    "# Fazer previsões\n",
    "previsoes = knn_sklearn.predict(X_test)\n",
    "\n",
    "# Calculando a precisão e mostrando a matriz de confusão\n",
    "print(accuracy_score(y_test, previsoes), confusion_matrix(y_test, previsoes), sep=\"\\n\")"
   ]
  },
  {
   "cell_type": "markdown",
   "id": "e952c8ee",
   "metadata": {},
   "source": [
    "Depois de comparar nosso modelo criado do zero com a versão do scikit-learn, obtivemos aproximadamente os mesmos resultados!\n",
    "\n",
    "Isso mostra que os algoritmos de machine learning não são tão difíceis de entender quanto parecem.\n",
    "\n",
    "Quando importamos um modelo pronto de uma biblioteca, nem sempre sabemos o que acontece por trás dos panos. Você pode ter pensado que o KNN envolvia muitos códigos e matemática complexa, mas, como vimos aqui, não é nenhum bicho de sete cabeças! No fim das contas, é um modelo bem simples e não precisamos de muitas linhas de código para implementá-lo. Claro, a versão da biblioteca é mais otimizada e oferece diversos parâmetros para ajustes finos, mas entender a implementação do zero nos dá mais controle e conhecimento sobre seu funcionamento."
   ]
  }
 ],
 "metadata": {
  "kernelspec": {
   "display_name": "Python 3",
   "language": "python",
   "name": "python3"
  },
  "language_info": {
   "codemirror_mode": {
    "name": "ipython",
    "version": 3
   },
   "file_extension": ".py",
   "mimetype": "text/x-python",
   "name": "python",
   "nbconvert_exporter": "python",
   "pygments_lexer": "ipython3",
   "version": "3.13.1"
  }
 },
 "nbformat": 4,
 "nbformat_minor": 5
}
